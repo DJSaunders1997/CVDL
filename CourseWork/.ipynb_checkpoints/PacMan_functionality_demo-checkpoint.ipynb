{
 "cells": [
  {
   "cell_type": "markdown",
   "metadata": {},
   "source": [
    "## 3D PacMan Demo Code\n",
    "The following demonstrates some of the functionality that is provided with the PacMan_functionality.py module."
   ]
  },
  {
   "cell_type": "markdown",
   "metadata": {},
   "source": [
    "### Import the PacMan_functionality module"
   ]
  },
  {
   "cell_type": "code",
   "execution_count": 1,
   "metadata": {},
   "outputs": [],
   "source": [
    "# Required imports\n",
    "import PacMan_functionality as PacMan # I've given the module an alias of PacMan to make it less longwinded to use"
   ]
  },
  {
   "cell_type": "markdown",
   "metadata": {},
   "source": [
    "### Initialise the game state: Producing the pointcloud and the boolean indicator of spheres collected"
   ]
  },
  {
   "cell_type": "code",
   "execution_count": 2,
   "metadata": {},
   "outputs": [
    {
     "name": "stdout",
     "output_type": "stream",
     "text": [
      "Pointcloud dictionary with keys: \n",
      "{'Positions': array([[-5.24826622,  2.17943311, -5.98984051],\n",
      "       [-5.14016819,  2.31065536, -6.00824881],\n",
      "       [-5.12259817,  2.66443014, -5.99506664],\n",
      "       ...,\n",
      "       [-9.03449008,  2.0825    ,  4.55715628],\n",
      "       [-9.03274526,  2.0825    ,  4.5571974 ],\n",
      "       [-9.031     ,  2.0825    ,  4.55721111]]), 'Colors': array([[167., 147., 100.],\n",
      "       [150., 138.,  82.],\n",
      "       [155., 138.,  71.],\n",
      "       ...,\n",
      "       [255.,   0.,   0.],\n",
      "       [255.,   0.,   0.],\n",
      "       [255.,   0.,   0.]])}\n",
      "\n",
      "Spheres collected so far: \n",
      "[False, False, False, False, False, False, False, False, False, False, False]\n"
     ]
    }
   ],
   "source": [
    "# Required imports\n",
    "import PacMan_functionality as PacMan\n",
    "\n",
    "# Intialise game\n",
    "global_cloud, spheres_collected = PacMan.startup_scene()\n",
    "\n",
    "# Print the data we have loaded\n",
    "print(\"Pointcloud dictionary with keys: \")\n",
    "print(global_cloud)\n",
    "\n",
    "print()\n",
    "\n",
    "print(\"Spheres collected so far: \")\n",
    "print(spheres_collected)"
   ]
  },
  {
   "cell_type": "markdown",
   "metadata": {},
   "source": [
    "### Creating an image from a pointcloud by using `project_pointcloud_image`"
   ]
  },
  {
   "cell_type": "code",
   "execution_count": null,
   "metadata": {},
   "outputs": [],
   "source": [
    "# Required imports\n",
    "import PacMan_functionality as PacMan\n",
    "import numpy\n",
    "import matplotlib.pyplot as plt\n",
    "\n",
    "# Initialise game\n",
    "global_cloud, spheres_collected = PacMan.startup_scene()\n",
    "\n",
    "# Create current camera position and angle\n",
    "position = numpy.zeros([3])\n",
    "angle = numpy.zeros([3])\n",
    "\n",
    "# Obtain image and associated maps\n",
    "image, map1, map2, map3, map4 = PacMan.project_pointcloud_image(global_cloud, angle, position)\n",
    "\n",
    "# Plot images using matplotlib.pyplot\n",
    "plt.figure()\n",
    "plt.imshow(image)\n",
    "plt.figure()\n",
    "plt.imshow(map1)\n",
    "plt.figure()\n",
    "plt.imshow(map2)\n",
    "plt.figure()\n",
    "plt.imshow(map3)\n",
    "plt.figure()\n",
    "plt.imshow(map4)"
   ]
  },
  {
   "cell_type": "markdown",
   "metadata": {},
   "source": [
    "### Updating the scene\n",
    "Here I will cheat and move the camera to somewhere I know a sphere is, just to show the functionality."
   ]
  },
  {
   "cell_type": "code",
   "execution_count": null,
   "metadata": {},
   "outputs": [],
   "source": [
    "# Required imports\n",
    "import PacMan_functionality as PacMan\n",
    "import numpy\n",
    "\n",
    "# Initialise game\n",
    "global_cloud, spheres_collected = PacMan.startup_scene()\n",
    "position = numpy.asarray([0, 0, 0])\n",
    "print('I am at position [{0}, {1}, {2}]'.format(*position))\n",
    "print('I have found {0} out of {1} spheres!\\n'.format(numpy.sum(spheres_collected), len(spheres_collected)));\n",
    "\n",
    "# Move position and update scene\n",
    "position = numpy.asarray([-0.18, 0.08, 2.31])\n",
    "print('I am now at position [{0}, {1}, {2}]'.format(*position))\n",
    "global_cloud, spheres_collected = PacMan.update_scene(position, spheres_collected);\n",
    "print('I have found {0} out of {1} spheres!\\n'.format(numpy.sum(spheres_collected), len(spheres_collected)));"
   ]
  },
  {
   "cell_type": "markdown",
   "metadata": {},
   "source": [
    "### Visualizing the pointcloud\n",
    "We can use matplotlib's scatter or the pptk module. pptk has a lot of optimization so is more responsive to use. no visualization is really needed, but can help."
   ]
  },
  {
   "cell_type": "code",
   "execution_count": null,
   "metadata": {},
   "outputs": [],
   "source": [
    "# Required imports\n",
    "%matplotlib notebook\n",
    "import PacMan_functionality as PacMan\n",
    "import pptk\n",
    "\n",
    "# Intialise game\n",
    "global_cloud, spheres_collected = PacMan.startup_scene()\n",
    "\n",
    "# matplotlib functionality wrapped by PacMan_functionality\n",
    "PacMan.show_point_cloud(global_cloud, subsample=50)\n",
    "\n",
    "# pptk pointcloud viewer\n",
    "pptk.viewer(global_cloud['Positions'], global_cloud['Colors']/255.0)"
   ]
  },
  {
   "cell_type": "code",
   "execution_count": null,
   "metadata": {},
   "outputs": [],
   "source": []
  }
 ],
 "metadata": {
  "kernelspec": {
   "display_name": "Python 3",
   "language": "python",
   "name": "python3"
  },
  "language_info": {
   "codemirror_mode": {
    "name": "ipython",
    "version": 3
   },
   "file_extension": ".py",
   "mimetype": "text/x-python",
   "name": "python",
   "nbconvert_exporter": "python",
   "pygments_lexer": "ipython3",
   "version": "3.7.6"
  }
 },
 "nbformat": 4,
 "nbformat_minor": 2
}
