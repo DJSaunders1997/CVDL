{
 "cells": [
  {
   "cell_type": "markdown",
   "execution_count": 1,
   "metadata": {},
   "outputs": [],
   "source": [
    "# Here I will simply build a classifier that detects the presence of a red ball or not in the training imagaes.\n",
    "    - First build classifier\n",
    "    - Then try to do the sliding window thing.\n",
    "    - I think the purpose of sliding window is so we know the new location of the ball. E.g. If we find ball in top right then move in that direction."
   ]
  },
  {
   "cell_type": "code",
   "execution_count": 67,
   "metadata": {},
   "outputs": [],
   "source": [
    "# imports\n",
    "import os\n",
    "import numpy as np\n",
    "from PIL import Image   # https://www.pluralsight.com/guides/importing-image-data-into-numpy-arrays\n",
    "import matplotlib.pyplot as plt\n",
    "from sklearn.model_selection import train_test_split\n",
    "from sklearn import metrics\n",
    "import tensorflow as tf"
   ]
  },
  {
   "cell_type": "code",
   "execution_count": 2,
   "metadata": {},
   "outputs": [],
   "source": [
    "# Define dirs\n",
    "pos_img_dir = 'TrainingImages/positives/'\n",
    "neg_img_dir = 'TrainingImages/negatives/'"
   ]
  },
  {
   "cell_type": "code",
   "execution_count": 3,
   "metadata": {},
   "outputs": [],
   "source": [
    "# Follow https://towardsdatascience.com/building-a-convolutional-neural-network-cnn-in-keras-329fbbadc5f5\n",
    "# Official https://www.tensorflow.org/tutorials/images/cnn\n"
   ]
  },
  {
   "cell_type": "code",
   "execution_count": 4,
   "metadata": {},
   "outputs": [
    {
     "data": {
      "text/plain": "(2600, 51, 51, 3)"
     },
     "execution_count": 4,
     "metadata": {},
     "output_type": "execute_result"
    }
   ],
   "source": [
    "# go through negatives\n",
    "\n",
    "neg_images = []\n",
    "neg_labels = np.zeros( len( os.listdir(neg_img_dir) ) )\n",
    "\n",
    "for filename in os.listdir(neg_img_dir):\n",
    "    neg_images.append(np.array(Image.open(neg_img_dir + filename))/255 )  # Normal\n",
    "\n",
    "#plt.imshow(neg_images[0])\n",
    "np.shape(neg_images)"
   ]
  },
  {
   "cell_type": "code",
   "execution_count": 5,
   "metadata": {},
   "outputs": [
    {
     "data": {
      "text/plain": "(308, 51, 51, 3)"
     },
     "execution_count": 5,
     "metadata": {},
     "output_type": "execute_result"
    }
   ],
   "source": [
    "# go through positives\n",
    "\n",
    "pos_images = []\n",
    "pos_labels = np.ones( len( os.listdir(pos_img_dir) ) )\n",
    "\n",
    "for filename in os.listdir(pos_img_dir):\n",
    "    pos_images.append(np.array(Image.open(pos_img_dir + filename))/255 ) \n",
    "\n",
    "#plt.imshow(pos_images[0])\n",
    "np.shape(pos_images)"
   ]
  },
  {
   "cell_type": "code",
   "execution_count": 6,
   "metadata": {},
   "outputs": [],
   "source": [
    "type(pos_images[0])\n",
    "X = np.concatenate((neg_images, pos_images))"
   ]
  },
  {
   "cell_type": "code",
   "execution_count": 68,
   "metadata": {},
   "outputs": [
    {
     "name": "stdout",
     "output_type": "stream",
     "text": "(2326, 51, 51, 3)\n(2326,)\n(582, 51, 51, 3)\n(582,)\n"
    },
    {
     "data": {
      "text/plain": "(51, 51, 3)"
     },
     "execution_count": 68,
     "metadata": {},
     "output_type": "execute_result"
    }
   ],
   "source": [
    "# Now weve got data in array form we can split into test and train data?\n",
    "# With full colour images\n",
    "\n",
    "X = np.concatenate((neg_images, pos_images))\n",
    "y = np.concatenate((neg_labels, pos_labels))\n",
    "\n",
    "X_train, X_test, y_train, y_test = train_test_split(X, y,\n",
    "                                                    test_size=0.2,\n",
    "                                                    stratify=y,\n",
    "                                                    random_state=300,\n",
    "                                                    shuffle=True)\n",
    "\n",
    "# Maybe TODO One-Hot-Encode CNN labels? Does it matter?\n",
    "#Prove test and train data is split correctly\n",
    "print(X_train.shape)\n",
    "print(y_train.shape)\n",
    "print(X_test.shape)\n",
    "print(y_test.shape)\n",
    "X_train[0].shape"
   ]
  },
  {
   "cell_type": "code",
   "execution_count": 69,
   "metadata": {},
   "outputs": [
    {
     "name": "stdout",
     "output_type": "stream",
     "text": "Model: \"sequential_8\"\n_________________________________________________________________\nLayer (type)                 Output Shape              Param #   \n=================================================================\nconv2d_17 (Conv2D)           (None, 49, 49, 32)        896       \n_________________________________________________________________\nmax_pooling2d_9 (MaxPooling2 (None, 24, 24, 32)        0         \n_________________________________________________________________\nconv2d_18 (Conv2D)           (None, 22, 22, 64)        18496     \n_________________________________________________________________\nflatten_8 (Flatten)          (None, 30976)             0         \n_________________________________________________________________\ndense_16 (Dense)             (None, 64)                1982528   \n_________________________________________________________________\ndense_17 (Dense)             (None, 2)                 130       \n=================================================================\nTotal params: 2,002,050\nTrainable params: 2,002,050\nNon-trainable params: 0\n_________________________________________________________________\nTrain on 2326 samples, validate on 582 samples\nEpoch 1/2\n2326/2326 [==============================] - 9s 4ms/sample - loss: 0.0591 - accuracy: 0.9815 - val_loss: 0.0028 - val_accuracy: 0.9983\nEpoch 2/2\n2326/2326 [==============================] - 9s 4ms/sample - loss: 0.0034 - accuracy: 0.9983 - val_loss: 9.2172e-09 - val_accuracy: 1.0000\n"
    },
    {
     "data": {
      "text/plain": "<tensorflow.python.keras.callbacks.History at 0x2a50280fc08>"
     },
     "execution_count": 69,
     "metadata": {},
     "output_type": "execute_result"
    }
   ],
   "source": [
    "# Multiclass CNN Architecture from \n",
    "from tensorflow.keras import datasets, layers, models\n",
    "\n",
    "model = models.Sequential()\n",
    "model.add(layers.Conv2D(32, (3, 3), activation='relu', input_shape=(51, 51, 3))) # Or input_shape=(X.shape[1:]) to get inshape\n",
    "model.add(layers.MaxPooling2D((2, 2)))\n",
    "model.add(layers.Conv2D(64, (3, 3), activation='relu')) \n",
    "\n",
    "model.add(layers.Flatten())\n",
    "model.add(layers.Dense(64, activation='relu'))\n",
    "model.add(layers.Dense(2))\n",
    "#model.add(layers.Dense(2)) # If activation function is used on last layer then accuracy will only be 0.9 not 0.99  \n",
    "# Keras Documentation:\n",
    "# activation: Activation function to use (see activations). \n",
    "# If you don't specify anything, no activation is applied (ie. \"linear\" activation: a(x) = x).\n",
    "\n",
    "model.summary()\n",
    "\n",
    "model.compile(optimizer='adam', loss=tf.keras.losses.SparseCategoricalCrossentropy(from_logits=True), metrics=['accuracy'])\n",
    "\n",
    "model.fit(X_train, y_train, epochs=2, validation_data=(X_test, y_test))"
   ]
  },
  {
   "cell_type": "code",
   "execution_count": 66,
   "metadata": {},
   "outputs": [
    {
     "name": "stdout",
     "output_type": "stream",
     "text": "Model: \"sequential_7\"\n_________________________________________________________________\nLayer (type)                 Output Shape              Param #   \n=================================================================\nconv2d_15 (Conv2D)           (None, 49, 49, 32)        896       \n_________________________________________________________________\nmax_pooling2d_8 (MaxPooling2 (None, 24, 24, 32)        0         \n_________________________________________________________________\nconv2d_16 (Conv2D)           (None, 22, 22, 64)        18496     \n_________________________________________________________________\nflatten_7 (Flatten)          (None, 30976)             0         \n_________________________________________________________________\ndense_14 (Dense)             (None, 64)                1982528   \n_________________________________________________________________\ndense_15 (Dense)             (None, 2)                 130       \n=================================================================\nTotal params: 2,002,050\nTrainable params: 2,002,050\nNon-trainable params: 0\n_________________________________________________________________\nTrain on 2326 samples, validate on 582 samples\nEpoch 1/2\n2326/2326 [==============================] - 9s 4ms/sample - loss: 0.0438 - accuracy: 0.9901 - val_loss: 2.2509e-07 - val_accuracy: 1.0000\nEpoch 2/2\n2326/2326 [==============================] - 10s 4ms/sample - loss: 8.4084e-07 - accuracy: 1.0000 - val_loss: 7.6195e-08 - val_accuracy: 1.0000\n"
    }
   ],
   "source": [
    "# Binary Classification CNN Architecture from https://www.tensorflow.org/tutorials/images/cnn\n",
    "from tensorflow.keras import datasets, layers, models\n",
    "\n",
    "model = models.Sequential()\n",
    "model.add(layers.Conv2D(32, (3, 3), activation='relu', input_shape=(51, 51, 3))) # Or input_shape=(X.shape[1:]) to get inshape\n",
    "model.add(layers.MaxPooling2D((2, 2)))\n",
    "model.add(layers.Conv2D(64, (3, 3), activation='relu')) \n",
    "\n",
    "model.add(layers.Flatten())\n",
    "model.add(layers.Dense(64, activation='relu'))\n",
    "model.add(layers.Dense(2, activation='relu'))\n",
    "#model.add(layers.Dense(2)) # If activation function is used on last layer then accuracy will only be 0.9 not 0.99  \n",
    "# Keras Documentation:\n",
    "# activation: Activation function to use (see activations). \n",
    "# If you don't specify anything, no activation is applied (ie. \"linear\" activation: a(x) = x).\n",
    "\n",
    "model.summary()\n",
    "\n",
    "model.compile(optimizer='adam', loss=tf.keras.losses.SparseCategoricalCrossentropy(from_logits=True), metrics=['accuracy'])\n",
    "\n",
    "history = model.fit(X_train, y_train, epochs=2, validation_data=(X_test, y_test))"
   ]
  },
  {
   "cell_type": "code",
   "execution_count": 11,
   "metadata": {},
   "outputs": [],
   "source": [
    "dave = model.predict(X_test)"
   ]
  },
  {
   "cell_type": "code",
   "execution_count": 40,
   "metadata": {},
   "outputs": [
    {
     "data": {
      "text/plain": "array([[  7.5748115, -14.36755  ],\n       [ -1.8680677,   5.46593  ]], dtype=float32)"
     },
     "execution_count": 40,
     "metadata": {},
     "output_type": "execute_result"
    }
   ],
   "source": [
    "dave2 = model.predict(X_test[110:112])\n",
    "dave2"
   ]
  },
  {
   "cell_type": "code",
   "execution_count": 37,
   "metadata": {},
   "outputs": [
    {
     "data": {
      "text/plain": "1.0"
     },
     "execution_count": 37,
     "metadata": {},
     "output_type": "execute_result"
    }
   ],
   "source": [
    "y_test[111]"
   ]
  },
  {
   "cell_type": "code",
   "execution_count": 14,
   "metadata": {},
   "outputs": [
    {
     "data": {
      "text/plain": "array([0, 0, 0, 0, 0, 0, 0, 0, 0, 0, 0, 0, 0, 0, 1, 1, 1, 0, 0, 0],\n      dtype=int64)"
     },
     "execution_count": 14,
     "metadata": {},
     "output_type": "execute_result"
    }
   ],
   "source": [
    "model.predict_classes(X_test[:20])\n"
   ]
  },
  {
   "cell_type": "code",
   "execution_count": null,
   "metadata": {},
   "outputs": [],
   "source": []
  }
 ],
 "metadata": {
  "kernelspec": {
   "display_name": "Python 3",
   "language": "python",
   "name": "python3"
  },
  "language_info": {
   "codemirror_mode": {
    "name": "ipython",
    "version": 3
   },
   "file_extension": ".py",
   "mimetype": "text/x-python",
   "name": "python",
   "nbconvert_exporter": "python",
   "pygments_lexer": "ipython3",
   "version": "3.7.6-final"
  }
 },
 "nbformat": 4,
 "nbformat_minor": 2
}