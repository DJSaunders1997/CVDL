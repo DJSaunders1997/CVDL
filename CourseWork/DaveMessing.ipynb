{
 "cells": [
  {
   "cell_type": "markdown",
   "execution_count": 1,
   "metadata": {},
   "outputs": [],
   "source": [
    "# Here I will simply build a classifier that detects the presence of a red ball or not in the training imagaes.\n",
    "    - First build classifier\n",
    "    - Then try to do the sliding window thing.\n",
    "    - I think the purpose of sliding window is so we know the new location of the ball. E.g. If we find ball in top right then move in that direction."
   ]
  },
  {
   "cell_type": "code",
   "execution_count": 21,
   "metadata": {},
   "outputs": [],
   "source": [
    "# imports\n",
    "import os\n",
    "import numpy as np\n",
    "from PIL import Image   # https://www.pluralsight.com/guides/importing-image-data-into-numpy-arrays\n",
    "import matplotlib.pyplot as plt\n",
    "from sklearn.model_selection import train_test_split\n",
    "from sklearn.ensemble import RandomForestClassifier\n",
    "from sklearn import metrics\n",
    "from scipy import stats"
   ]
  },
  {
   "cell_type": "code",
   "execution_count": 22,
   "metadata": {},
   "outputs": [
    {
     "name": "stdout",
     "output_type": "stream",
     "text": "(2600, 51, 51)\n(308, 51, 51)\n"
    }
   ],
   "source": [
    "# Define dirs\n",
    "pos_img_dir = 'TrainingImages/positives/'\n",
    "neg_img_dir = 'TrainingImages/negatives/'\n",
    "\n",
    "# go through negatives\n",
    "neg_images = []\n",
    "neg_labels = np.zeros( len( os.listdir(neg_img_dir) ) )\n",
    "\n",
    "for filename in os.listdir(neg_img_dir):\n",
    "    neg_images.append( np.array( Image.open( neg_img_dir + filename ).convert('L') )/255 )\n",
    "\n",
    "print(np.shape(neg_images))\n",
    "\n",
    "# go through positives\n",
    "pos_images = []\n",
    "pos_labels = np.ones( len( os.listdir(pos_img_dir) ) )\n",
    "\n",
    "for filename in os.listdir(pos_img_dir):\n",
    "    pos_images.append( np.array( Image.open( pos_img_dir + filename ).convert('L') )/255 )\n",
    "\n",
    "print(np.shape(pos_images))"
   ]
  },
  {
   "cell_type": "code",
   "execution_count": 23,
   "metadata": {},
   "outputs": [
    {
     "ename": "NameError",
     "evalue": "name 'neg_label' is not defined",
     "output_type": "error",
     "traceback": [
      "\u001b[1;31m---------------------------------------------------------------------------\u001b[0m",
      "\u001b[1;31mNameError\u001b[0m                                 Traceback (most recent call last)",
      "\u001b[1;32m<ipython-input-23-01e5431fcda8>\u001b[0m in \u001b[0;36m<module>\u001b[1;34m\u001b[0m\n\u001b[0;32m      4\u001b[0m \u001b[1;33m\u001b[0m\u001b[0m\n\u001b[0;32m      5\u001b[0m \u001b[0mX\u001b[0m \u001b[1;33m=\u001b[0m \u001b[0mnp\u001b[0m\u001b[1;33m.\u001b[0m\u001b[0mconcatenate\u001b[0m\u001b[1;33m(\u001b[0m\u001b[1;33m(\u001b[0m\u001b[0mneg_images\u001b[0m\u001b[1;33m,\u001b[0m \u001b[0mpos_images\u001b[0m\u001b[1;33m)\u001b[0m\u001b[1;33m)\u001b[0m\u001b[1;33m\u001b[0m\u001b[1;33m\u001b[0m\u001b[0m\n\u001b[1;32m----> 6\u001b[1;33m \u001b[0my\u001b[0m \u001b[1;33m=\u001b[0m \u001b[0mnp\u001b[0m\u001b[1;33m.\u001b[0m\u001b[0mconcatenate\u001b[0m\u001b[1;33m(\u001b[0m\u001b[1;33m(\u001b[0m\u001b[0mneg_label\u001b[0m\u001b[1;33m,\u001b[0m \u001b[0mpos_label\u001b[0m\u001b[1;33m)\u001b[0m\u001b[1;33m)\u001b[0m\u001b[1;33m\u001b[0m\u001b[1;33m\u001b[0m\u001b[0m\n\u001b[0m\u001b[0;32m      7\u001b[0m \u001b[1;33m\u001b[0m\u001b[0m\n\u001b[0;32m      8\u001b[0m \u001b[0mX_train\u001b[0m\u001b[1;33m,\u001b[0m \u001b[0mX_test\u001b[0m\u001b[1;33m,\u001b[0m \u001b[0my_train\u001b[0m\u001b[1;33m,\u001b[0m \u001b[0my_test\u001b[0m \u001b[1;33m=\u001b[0m \u001b[0mtrain_test_split\u001b[0m\u001b[1;33m(\u001b[0m\u001b[0mX\u001b[0m\u001b[1;33m,\u001b[0m \u001b[0my\u001b[0m\u001b[1;33m,\u001b[0m \u001b[0mtest_size\u001b[0m\u001b[1;33m=\u001b[0m\u001b[1;36m0.2\u001b[0m\u001b[1;33m,\u001b[0m \u001b[0mstratify\u001b[0m\u001b[1;33m=\u001b[0m\u001b[0my\u001b[0m\u001b[1;33m,\u001b[0m \u001b[0mrandom_state\u001b[0m\u001b[1;33m=\u001b[0m\u001b[1;36m300\u001b[0m\u001b[1;33m,\u001b[0m \u001b[0mshuffle\u001b[0m\u001b[1;33m=\u001b[0m\u001b[1;32mTrue\u001b[0m\u001b[1;33m)\u001b[0m\u001b[1;33m\u001b[0m\u001b[1;33m\u001b[0m\u001b[0m\n",
      "\u001b[1;31mNameError\u001b[0m: name 'neg_label' is not defined"
     ]
    }
   ],
   "source": [
    "# Now weve got data in array form we can split into test and train data?\n",
    "# With GREYSCALE images\n",
    "# TODO Try with full colour images\n",
    "\n",
    "X = np.concatenate((neg_images, pos_images))\n",
    "y = np.concatenate((neg_label, pos_label))\n",
    "\n",
    "X_train, X_test, y_train, y_test = train_test_split(X, y, test_size=0.2, stratify=y, random_state=300, shuffle=True)\n",
    "#Prove test and train data is split correctly\n",
    "print(X_train.shape)\n",
    "print(y_train.shape)\n",
    "print(X_test.shape)\n",
    "print(y_test.shape)\n",
    "X_train[0].shape"
   ]
  },
  {
   "cell_type": "code",
   "execution_count": 0,
   "metadata": {},
   "outputs": [],
   "source": [
    "# Try flattening for sklearn to work\n",
    "fX_train = np.reshape(X_train, (len(y_train),-1))\n",
    "print(fX_train.shape)\n",
    "fX_test = np.reshape(X_test, (len(y_test),-1))\n",
    "print(fX_test.shape)"
   ]
  },
  {
   "cell_type": "code",
   "execution_count": 0,
   "metadata": {},
   "outputs": [],
   "source": [
    "# Try a Random forrest classifier on image?\n",
    "# Using fX, flattened 1D array for each image\n",
    "# TODO still might have to change so I actually extract features\n",
    "# TODO perhaps use a CNN with all colours first?\n",
    "\n",
    "clf=RandomForestClassifier(n_estimators=50)\n",
    "clf.fit(fX_train,y_train)\n",
    "y_pred=clf.predict(fX_test)\n",
    "print(\"Accuracy:\",metrics.accuracy_score(y_test, y_pred))"
   ]
  },
  {
   "cell_type": "code",
   "execution_count": 0,
   "metadata": {},
   "outputs": [],
   "source": [
    "import PacMan_functionality as PacMan\n",
    "\n",
    "# Initialise game\n",
    "global_cloud, spheres_collected = PacMan.startup_scene()"
   ]
  },
  {
   "cell_type": "code",
   "execution_count": 0,
   "metadata": {},
   "outputs": [],
   "source": [
    "\n",
    "# Create current camera position and angle\n",
    "position = np.zeros([3])\n",
    "angle = np.zeros([3])\n",
    "\n",
    "# Obtain image and associated maps\n",
    "image, mapx, mapy, mapz, depth = PacMan.project_pointcloud_image(global_cloud, angle, position)\n",
    "type(depth)"
   ]
  },
  {
   "cell_type": "code",
   "execution_count": 0,
   "metadata": {},
   "outputs": [],
   "source": [
    "# Plot images using matplotlib.pyplot\n",
    "plt.figure(figsize=(4,2))\n",
    "plt.imshow(image)\n",
    "plt.colorbar()\n",
    "\n",
    "plt.figure(figsize=(4,2))\n",
    "plt.imshow(mapx)\n",
    "plt.colorbar()\n",
    "\n",
    "plt.figure(figsize=(4,2))\n",
    "plt.imshow(mapy)\n",
    "plt.colorbar()\n",
    "\n",
    "plt.figure(figsize=(4,2))\n",
    "plt.imshow(mapz)\n",
    "plt.colorbar()\n",
    "\n",
    "plt.figure(figsize=(4,2))\n",
    "plt.imshow(depth, cmap='bwr')\n",
    "plt.colorbar()"
   ]
  },
  {
   "cell_type": "code",
   "execution_count": 0,
   "metadata": {},
   "outputs": [],
   "source": [
    "# Really stupid but here goes\n",
    "# To convert the image into greyscale the same way I did when training the data I need to save the image as a png then reopen it\n",
    "# TODO fix in the future if i can but cant atm\n",
    "plt.imsave('image.png', image)\n",
    "greyimg = Image.open('image.png').convert('L')\n",
    "greyimgnp = np.asarray(greyimg)\n",
    "print(greyimgnp.shape)\n",
    "greyimg"
   ]
  },
  {
   "cell_type": "code",
   "execution_count": 0,
   "metadata": {},
   "outputs": [],
   "source": [
    "def sliding_window_classifier( step_size, image ):\n",
    "    #image is (160, 240, 3)\n",
    "    #window is (51, 51, 3)\n",
    "    image_hight = image.shape[0] # 160\n",
    "    image_width = image.shape[1] # 240\n",
    "    window_size = 51\n",
    "    windows = []\n",
    "\n",
    "    for y in range(0, image_hight-window_size, step_size): \n",
    "        for x in range (0, image_width-window_size, step_size):\n",
    "            test = image[y:y+window_size, x:x+window_size] # Had to remove last : because grey image has no colurs\n",
    "\n",
    "            prediction = clf.predict(test.reshape(1,-1))\n",
    "\n",
    "            if (prediction==1):\n",
    "                print(i)\n",
    "                print('X:{}, Y:{}'.format(x,y))\n",
    "                print(prediction)\n",
    "                plt.figure(figsize=(4,2))\n",
    "                plt.imshow(test, cmap='gray', vmin=0, vmax=255)    \n",
    "                plt.show()\n",
    "\n",
    "print(greyimgnp.shape)\n",
    "sliding_window_classifier(20, greyimgnp)\n",
    "\n",
    "depthim = depth[60:60+51, 60:60+51]\n",
    "plt.figure(figsize=(4,2))\n",
    "plt.imshow(depth[60:60+51, 60:60+51], cmap='bwr')\n",
    "plt.colorbar()\n"
   ]
  },
  {
   "cell_type": "code",
   "execution_count": 0,
   "metadata": {},
   "outputs": [],
   "source": [
    "flatdepth = depthim.reshape(-1,1)               # From 2d array to 1d array\n",
    "flatdepth = np.round(flatdepth, decimals=1)     # Round array to 1 decimal place\n",
    "mode, count = stats.mode(flatdepth)             # Calculate mode of array\n",
    "# Mode will be the most frequent item in the array\n",
    "# Rationale is that the most frequent item will be the sphere, as the sphere takes up most of the screen?\n",
    "# TODO Use different scales with the sliding window, you may just want to go forward if you can see one only a little bit?\n",
    "mode[0,0] # Should be how far away the image is from us"
   ]
  },
  {
   "cell_type": "code",
   "execution_count": 0,
   "metadata": {},
   "outputs": [],
   "source": [
    "spheres_collected"
   ]
  },
  {
   "cell_type": "code",
   "execution_count": 0,
   "metadata": {},
   "outputs": [],
   "source": [
    "# Move camera 2.3 forwards, towards sphere\n",
    "import PacMan_functionality as PacMan\n",
    "import numpy as np\n",
    "\n",
    "# Initilise game\n",
    "global_cloud, spheres_collected = PacMan.startup_scene()\n",
    "position = np.asarray([0, 0, 0])\n",
    "print('I am at position [{0}, {1}, {2}]'.format(*position))\n",
    "print('I have found {0} out of {1} spheres!\\n'.format(np.sum(spheres_collected), len(spheres_collected)));\n",
    "\n",
    "# Move position and update scene\n",
    "#position = np.asarray([-0.18, 0.08, 2.31])\n",
    "position = np.asarray([0, 0, 2])\n",
    "print('I am now at position [{0}, {1}, {2}]'.format(*position))\n",
    "global_cloud, spheres_collected = PacMan.update_scene(position, spheres_collected);\n",
    "print('I have found {0} out of {1} spheres!\\n'.format(np.sum(spheres_collected), len(spheres_collected)));"
   ]
  },
  {
   "cell_type": "code",
   "execution_count": 0,
   "metadata": {},
   "outputs": [],
   "source": [
    "# Really stupid but here goes\n",
    "# To convert the image into greyscale the same way I did when training the data I need to save the image as a png then reopen it\n",
    "# TODO fix in the future if i can but cant atm\n",
    "plt.imsave('image.png', image)\n",
    "greyimg = Image.open('image.png').convert('L')\n",
    "greyimgnp = np.asarray(greyimg)\n",
    "print(greyimgnp.shape)\n",
    "greyimg"
   ]
  },
  {
   "cell_type": "code",
   "execution_count": 0,
   "metadata": {},
   "outputs": [],
   "source": [
    "subimage = greyimgnp[60:60+51, 70:70+51]\n",
    "plt.imshow(greyimgnp[60:60+51, 70:70+51], cmap='gray', vmin=0, vmax=255)    # get a 51 by 51 size chunk of the image\n",
    "plt.show()\n",
    "print(clf.predict(subimage.reshape(1,-1)))  # It finds the point!!\n",
    "clf.predict_proba(subimage.reshape(1,-1))"
   ]
  },
  {
   "cell_type": "code",
   "execution_count": 0,
   "metadata": {},
   "outputs": [],
   "source": [
    "# Now ive proven my algorithm can find the point lets write some sliding window thing to break up the image into n smaller ones\n",
    "print(greyimgnp.shape)\n",
    "\n",
    "y=0\n",
    "start_x = 0\n",
    "start_y = 0\n",
    "window_size = 51\n",
    "move_size = 20\n",
    "count=0\n",
    "while(start_x<160):\n",
    "    print()\n",
    "    print('Count: ', count)\n",
    "    #print('x:{}, y:{}'.format(start_x, start_y))\n",
    "    end_x = start_x + window_size\n",
    "    end_y = start_y + window_size\n",
    "\n",
    "    curr_window = greyimgnp[start_x:end_x, start_y:end_y]\n",
    "    #print(curr_window)\n",
    "    #plt.imshow(curr_window, cmap='gray', vmin=0, vmax=255)\n",
    "    #plt.show()\n",
    "    \n",
    "    try:        \n",
    "        predict = clf.predict(curr_window.reshape(1,-1)) \n",
    "        if (predict==[1.]):\n",
    "            print('FOUND SPHERE')\n",
    "            print(start_x, start_y)\n",
    "            #break\n",
    "    except:\n",
    "        print('WRONG SHAPE')\n",
    "\n",
    "    start_y = start_y + move_size\n",
    "    if (start_y + window_size > 240):\n",
    "        # Window has gone off y\n",
    "        # Restart at y=0 and increase x\n",
    "        start_y = 0\n",
    "        start_x = start_x + move_size\n",
    "\n",
    "    start_y = start_y + move_size\n",
    "    count = count+1"
   ]
  },
  {
   "cell_type": "code",
   "execution_count": 0,
   "metadata": {},
   "outputs": [],
   "source": [
    "# Better sliding window\n",
    "# Define function sliding window\n",
    "# returns array of windows that I can classify at once\n",
    "def sliding_window( step_size, image ):\n",
    "    #image is (160, 240, 3)\n",
    "    #window is (51, 51, 3)\n",
    "    image_hight = image.shape[0] # 160\n",
    "    image_width = image.shape[1] # 240\n",
    "    window_size = 51\n",
    "    windows = []\n",
    "\n",
    "    for y in range(0, image_hight-window_size, step_size): \n",
    "        for x in range (0, image_width-window_size, step_size):\n",
    "            windows.append(image[y:y+window_size, x:x+window_size]) # Had to remove last : because grey image has no colurs\n",
    "\n",
    "    return np.array(windows) # Return windows as np array\n",
    "\n",
    "res = sliding_window(20, greyimgnp)\n",
    "np.shape(res)\n"
   ]
  },
  {
   "cell_type": "code",
   "execution_count": 0,
   "metadata": {},
   "outputs": [],
   "source": [
    "test = sliding_window(20, greyimgnp) \n",
    "print(np.shape(test))\n",
    "for i in range( len(test[:,0,0]) ):\n",
    "    \n",
    "    #prediction = model.predict( np.array( [test[i,:,:,:],]) )\n",
    "\n",
    "    prediction = clf.predict(test[i,:,:].reshape(1,-1))\n",
    "\n",
    "    if (prediction==0):\n",
    "        continue\n",
    "    else:\n",
    "        print(i)\n",
    "        print(prediction) \n",
    "        print()\n",
    "        #print( str(prediction).format(1.0e-9) ) # Force scientific notation off\n",
    "        plt.figure(figsize=(4,2))\n",
    "        plt.imshow(test[i,:,:], cmap='gray', vmin=0, vmax=255)    \n",
    "        plt.show()"
   ]
  },
  {
   "cell_type": "code",
   "execution_count": 0,
   "metadata": {},
   "outputs": [],
   "source": [
    "#"
   ]
  },
  {
   "cell_type": "code",
   "execution_count": 0,
   "metadata": {},
   "outputs": [],
   "source": [
    "#"
   ]
  }
 ],
 "metadata": {
  "kernelspec": {
   "display_name": "Python 3",
   "language": "python",
   "name": "python3"
  },
  "language_info": {
   "codemirror_mode": {
    "name": "ipython",
    "version": 3
   },
   "file_extension": ".py",
   "mimetype": "text/x-python",
   "name": "python",
   "nbconvert_exporter": "python",
   "pygments_lexer": "ipython3",
   "version": "3.7.6-final"
  }
 },
 "nbformat": 4,
 "nbformat_minor": 2
}